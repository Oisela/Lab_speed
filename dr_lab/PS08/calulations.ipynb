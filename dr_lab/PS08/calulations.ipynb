{
 "cells": [
  {
   "cell_type": "code",
   "execution_count": 1,
   "id": "da8e5f4e",
   "metadata": {},
   "outputs": [],
   "source": [
    "# Importieren der benötigten Module\n",
    "import sys\n",
    "sys.path.append(\"../\")  # oder der relative Pfad zum Ordner, der lab_tools enthält\n",
    "import lab_tools.calc as calc\n",
    "import lab_tools.print as pri\n",
    "from IPython.display import display, Math\n"
   ]
  },
  {
   "cell_type": "code",
   "execution_count": 2,
   "id": "3be3218d",
   "metadata": {},
   "outputs": [],
   "source": [
    "# Erstellen der Output Datei txt\n",
    "output_file = open(\"output.txt\", \"w\")"
   ]
  },
  {
   "cell_type": "code",
   "execution_count": 3,
   "id": "1558a60a",
   "metadata": {},
   "outputs": [
    {
     "name": "stdout",
     "output_type": "stream",
     "text": [
      "Mittelwert: 149.32233574932448\n",
      "Fehler: 4.420278572023809\n"
     ]
    }
   ],
   "source": [
    "values = [\n",
    "    138.3371765,\n",
    "    145.0309109,\n",
    "    150.2371487,\n",
    "    150.6090228\n",
    "\n",
    "]\n",
    "\n",
    "\n",
    "errors = [\n",
    "    24,\n",
    "    12,\n",
    "    8,\n",
    "    6.1     \n",
    "]\n",
    "\n",
    "\n",
    "# Berechnung des Mittelwerts mit error propagation\n",
    "mean, error = calc.weighted_mean_with_error(values, errors)\n",
    "print(\"Mittelwert:\", mean)\n",
    "print(\"Fehler:\", error)\n"
   ]
  },
  {
   "cell_type": "code",
   "execution_count": null,
   "id": "56b7a217",
   "metadata": {},
   "outputs": [],
   "source": [
    "pri.latex_results(\n",
    "    \"Mittelwert\",\n",
    "    mean,\n",
    "    error,\n",
    "    ,\n",
    "    output_file.name\n",
    ")\n",
    "\n"
   ]
  },
  {
   "cell_type": "code",
   "execution_count": 18,
   "id": "92b08749",
   "metadata": {},
   "outputs": [
    {
     "data": {
      "text/plain": [
       "([4.359391162996897e-06,\n",
       "  4.1429674882381854e-06,\n",
       "  4.001085040010851e-06,\n",
       "  3.994245578403995e-06],\n",
       " 0.00059,\n",
       " [13.4, 28.2, 43.8, 58.5],\n",
       " 10.1,\n",
       " [1, 2, 3, 4])"
      ]
     },
     "execution_count": 18,
     "metadata": {},
     "output_type": "execute_result"
    }
   ],
   "source": [
    "WELLENLÄNGE = 590 # nm\n",
    "\n",
    "# nm in mm\n",
    "WELLENLÄNGE = WELLENLÄNGE / 1000000 # mm\n",
    "WELLENLÄNGE_errors = 0\n",
    "\n",
    "Ordnung = [1,2,3,4]\n",
    "\n",
    "spannung = [13.4, 28.2, 43.8, 58.5] # mm^2\n",
    "spannung_errors = [2.2, 2.2, 2.3, 2.3] # mm^2\n",
    "\n",
    "\n",
    "d = 10.1 # mm\n",
    "d_erros = 0.1 # mm\n",
    "# Berechnung C\n",
    "\n",
    "C = []\n",
    "for i in range(len(spannung)):\n",
    "    C.append(Ordnung[i] * WELLENLÄNGE / ( spannung[i] * d))\n",
    "\n",
    "\n",
    "\n",
    "C, WELLENLÄNGE, spannung, d, Ordnung\n",
    "\n",
    "\n"
   ]
  },
  {
   "cell_type": "code",
   "execution_count": 20,
   "id": "1703ebb7",
   "metadata": {},
   "outputs": [
    {
     "data": {
      "text/plain": [
       "(np.float64(4.021817472324414), np.float64(0.11716159203001887))"
      ]
     },
     "execution_count": 20,
     "metadata": {},
     "output_type": "execute_result"
    }
   ],
   "source": [
    "C = [\n",
    "    4.36,\n",
    "    4.14,\n",
    "    4.00,\n",
    "    3.99\n",
    "]\n",
    "\n",
    "c_erros = [\n",
    "    0.72,\n",
    "    0.33,\n",
    "    0.21,\n",
    "    0.16\n",
    "]\n",
    "\n",
    "calc.weighted_mean_with_error(\n",
    "    C,\n",
    "    c_erros\n",
    ")\n"
   ]
  },
  {
   "cell_type": "code",
   "execution_count": null,
   "id": "40c549f8",
   "metadata": {},
   "outputs": [],
   "source": []
  }
 ],
 "metadata": {
  "kernelspec": {
   "display_name": ".venv",
   "language": "python",
   "name": "python3"
  },
  "language_info": {
   "codemirror_mode": {
    "name": "ipython",
    "version": 3
   },
   "file_extension": ".py",
   "mimetype": "text/x-python",
   "name": "python",
   "nbconvert_exporter": "python",
   "pygments_lexer": "ipython3",
   "version": "3.12.9"
  }
 },
 "nbformat": 4,
 "nbformat_minor": 5
}
